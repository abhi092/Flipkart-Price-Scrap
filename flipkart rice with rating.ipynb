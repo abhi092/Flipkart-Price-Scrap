{
 "cells": [
  {
   "cell_type": "code",
   "execution_count": 1,
   "metadata": {},
   "outputs": [
    {
     "name": "stdout",
     "output_type": "stream",
     "text": [
      "PRODUCT_NAME  :  India Gate Regular Choice Basmati Rice (Medium Grain) PRICE:   ₹352 RATING:   4\n",
      "PRODUCT_NAME  :  Daawat Rozana Super Basmati Rice (Broken Grain) PRICE:   ₹319 RATING:   3.2\n",
      "PRODUCT_NAME  :  Daawat Rozana Gold Basmati Rice (Medium Grain) PRICE:   ₹91 RATING:   3\n",
      "PRODUCT_NAME  :  SFT Poha/Flattened Rice, Organic, Good Quality (Chidva,... PRICE:   ₹163 RATING:   3.8\n",
      "PRODUCT_NAME  :  India Gate Feast Rozzana Basmati Rice (Medium Grain) PRICE:   ₹91 RATING:   3.3\n",
      "PRODUCT_NAME  :  Safe Harvest Sona Masoori Rice (Raw) PRICE:   ₹356 RATING:   4\n",
      "PRODUCT_NAME  :  India Gate Dubar Basmati Rice (Medium Grain) PRICE:   ₹111 RATING:   5\n",
      "PRODUCT_NAME  :  Bemisal Mother's Choice Basmati Rice (Broken) PRICE:   ₹66 RATING:   3.3\n",
      "PRODUCT_NAME  :  Elina Rice (Long Grain, Boiled) PRICE:   ₹63 RATING:   4\n",
      "PRODUCT_NAME  :  Fortune Everyday Basmati Rice (Long Grain) PRICE:   ₹90 RATING:   3.8\n",
      "PRODUCT_NAME  :  Fortune Biryani Special Basmati Rice (Long Grain) PRICE:   ₹124 RATING:   5\n",
      "PRODUCT_NAME  :  Haryana King Mini Mongra Basmati Rice PRICE:   ₹396 RATING:   4\n",
      "PRODUCT_NAME  :  Parakh Royal 1121 Basmati Rice PRICE:   ₹106 RATING:   3.8\n",
      "PRODUCT_NAME  :  Real Basmati BR - 5 Brown Rice (Medium Grain) PRICE:   ₹410 RATING:   3.8\n",
      "PRODUCT_NAME  :  Pro Nature Organic Puffed Rice (Parboiled) PRICE:   ₹36 RATING:   4\n"
     ]
    }
   ],
   "source": [
    "import requests\n",
    "import bs4\n",
    "\n",
    "res =requests.get('https://www.flipkart.com/search?q=rice&otracker=search&otracker1=search&marketplace=FLIPKART&as-show=on&as=off')\n",
    "#res.text\n",
    "soup=bs4.BeautifulSoup(res.text, 'lxml')\n",
    "#type(soup)\n",
    "\n",
    "containers2 = soup.findAll(\"div\",{\"class\":\"_1vC4OE\"})\n",
    "containers1=soup.findAll(\"a\",{\"class\":\"_2cLu-l\"})\n",
    "containers3=soup.findAll(\"div\",{\"class\":\"hGSR34 _2beYZw\"})\n",
    "\n",
    "for i,j,k in zip(containers1,containers2,containers3):\n",
    "    print(\"PRODUCT_NAME  : \",i.text,   \"PRICE:  \",j.text,   \"RATING:  \",k.text)\n"
   ]
  },
  {
   "cell_type": "code",
   "execution_count": null,
   "metadata": {},
   "outputs": [],
   "source": []
  },
  {
   "cell_type": "code",
   "execution_count": null,
   "metadata": {},
   "outputs": [],
   "source": []
  }
 ],
 "metadata": {
  "kernelspec": {
   "display_name": "Python 3",
   "language": "python",
   "name": "python3"
  },
  "language_info": {
   "codemirror_mode": {
    "name": "ipython",
    "version": 3
   },
   "file_extension": ".py",
   "mimetype": "text/x-python",
   "name": "python",
   "nbconvert_exporter": "python",
   "pygments_lexer": "ipython3",
   "version": "3.6.5"
  }
 },
 "nbformat": 4,
 "nbformat_minor": 2
}
